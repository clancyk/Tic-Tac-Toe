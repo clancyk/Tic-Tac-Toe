{
 "cells": [
  {
   "cell_type": "code",
   "execution_count": 1,
   "metadata": {
    "collapsed": true
   },
   "outputs": [],
   "source": [
    "#inputs (initial settings)\n",
    "board = [1,2,3,4,5,6,7,8,9]\n",
    "player_X = 0\n",
    "player_O = 0"
   ]
  },
  {
   "cell_type": "code",
   "execution_count": 2,
   "metadata": {
    "collapsed": true
   },
   "outputs": [],
   "source": [
    "#Printing the board as a 3x3 \n",
    "def board_display():\n",
    "    print(*board[0:3])\n",
    "    print(*board[3:6])\n",
    "    print(*board[6:9])"
   ]
  },
  {
   "cell_type": "code",
   "execution_count": 3,
   "metadata": {
    "collapsed": true
   },
   "outputs": [],
   "source": [
    "#replacing number in board with input from Player X\n",
    "\n",
    "def playerX_input():\n",
    "    x = 0\n",
    "    while x != 1:\n",
    "    \n",
    "    #Getting input as a single number\n",
    "        global player_X\n",
    "        player_X = int(input(\"Player X choose a spot number: \"))\n",
    "\n",
    "    #Checking if number is still possible \n",
    "        if player_X in board:\n",
    "            #print (\"that's an option!\")\n",
    "            board_assignX()\n",
    "            x = 1\n",
    "            break\n",
    "        else:\n",
    "            print(\"That is no longer an option\")\n",
    "            continue"
   ]
  },
  {
   "cell_type": "code",
   "execution_count": 4,
   "metadata": {
    "collapsed": true
   },
   "outputs": [],
   "source": [
    "#replacing number in board with input from Player O\n",
    "\n",
    "def playerO_input():\n",
    "    x = 0\n",
    "    while x != 1:\n",
    "    \n",
    "    #Getting input as a single number\n",
    "        global player_O\n",
    "        player_O = int(input(\"Player O choose a spot number: \"))\n",
    "    \n",
    "    #Checking if number is still possible \n",
    "        if player_O in board:\n",
    "            #print (\"that's an option!\")\n",
    "            board_assignO()\n",
    "            x = 1\n",
    "            break\n",
    "        else:\n",
    "            print(\"That is no longer an option\")\n",
    "            continue"
   ]
  },
  {
   "cell_type": "code",
   "execution_count": 5,
   "metadata": {
    "collapsed": true
   },
   "outputs": [],
   "source": [
    "#Assigning player_X input to the board\n",
    "def board_assignX():\n",
    "\n",
    "    for num in board:\n",
    "        if num == player_X:\n",
    "            board[num-1] = \"X\"\n",
    "            break"
   ]
  },
  {
   "cell_type": "code",
   "execution_count": 6,
   "metadata": {
    "collapsed": true
   },
   "outputs": [],
   "source": [
    "#Assigning player_O input to the board\n",
    "def board_assignO():\n",
    "\n",
    "    for num in board:\n",
    "        if num == player_O:\n",
    "            board[num-1] = \"O\"\n",
    "            break"
   ]
  },
  {
   "cell_type": "code",
   "execution_count": 7,
   "metadata": {
    "collapsed": true
   },
   "outputs": [],
   "source": [
    "#Checking to see if either player has 3 spots in a row (i.e. win)\n",
    "def is_winner():\n",
    "    global game\n",
    "    if board[0]==board[1]==board[2]:\n",
    "        print (\"We have a winner!\")\n",
    "        board_display()\n",
    "        game = 1\n",
    "    if board[3]==board[4]==board[5]:\n",
    "        print (\"We have a winner!\")\n",
    "        board_display()\n",
    "        game = 1\n",
    "    if board[6]==board[7]==board[8]:\n",
    "        print (\"We have a winner!\")\n",
    "        board_display()\n",
    "        game = 1\n",
    "    if board[0]==board[4]==board[8]:\n",
    "        print (\"We have a winner!\")\n",
    "        board_display()\n",
    "        game = 1\n",
    "    if board[2]==board[4]==board[6]:\n",
    "        print (\"We have a winner!\")\n",
    "        board_display()\n",
    "        game = 1\n",
    "    if board[0]==board[3]==board[6]:\n",
    "        print (\"We have a winner!\")\n",
    "        board_display()\n",
    "        game = 1\n",
    "    if board[1]==board[4]==board[7]:\n",
    "        print (\"We have a winner!\")\n",
    "        board_display()\n",
    "        game = 1\n",
    "    if board[2]==board[5]==board[9]:\n",
    "        print (\"We have a winner!\")\n",
    "        board_display()\n",
    "        game = 1"
   ]
  },
  {
   "cell_type": "code",
   "execution_count": 8,
   "metadata": {
    "collapsed": false
   },
   "outputs": [
    {
     "name": "stdout",
     "output_type": "stream",
     "text": [
      "1 2 3\n",
      "4 5 6\n",
      "7 8 9\n",
      "Player X choose a spot number: 1\n",
      "X 2 3\n",
      "4 5 6\n",
      "7 8 9\n",
      "Player O choose a spot number: 5\n",
      "X 2 3\n",
      "4 O 6\n",
      "7 8 9\n",
      "Player X choose a spot number: 6\n",
      "X 2 3\n",
      "4 O X\n",
      "7 8 9\n",
      "Player O choose a spot number: 3\n",
      "X 2 O\n",
      "4 O X\n",
      "7 8 9\n",
      "Player X choose a spot number: 8\n",
      "X 2 O\n",
      "4 O X\n",
      "7 X 9\n",
      "Player O choose a spot number: 7\n",
      "We have a winner!\n",
      "X 2 O\n",
      "4 O X\n",
      "O X 9\n",
      "Good game :) Refresh to try again!\n"
     ]
    }
   ],
   "source": [
    "#all together now, need to have the 2 separate if statements so the game stops if player X wins\n",
    "game = 0\n",
    "while game != 1:\n",
    "    if game != 1:\n",
    "        board_display()\n",
    "        playerX_input()\n",
    "        is_winner()\n",
    "    if game != 1:\n",
    "        board_display()\n",
    "        playerO_input()\n",
    "        is_winner()\n",
    "        \n",
    "print (\"Good game :) Refresh to try again!\")"
   ]
  },
  {
   "cell_type": "code",
   "execution_count": null,
   "metadata": {
    "collapsed": true
   },
   "outputs": [],
   "source": []
  }
 ],
 "metadata": {
  "kernelspec": {
   "display_name": "Python 3",
   "language": "python",
   "name": "python3"
  },
  "language_info": {
   "codemirror_mode": {
    "name": "ipython",
    "version": 3
   },
   "file_extension": ".py",
   "mimetype": "text/x-python",
   "name": "python",
   "nbconvert_exporter": "python",
   "pygments_lexer": "ipython3",
   "version": "3.6.0"
  }
 },
 "nbformat": 4,
 "nbformat_minor": 2
}
